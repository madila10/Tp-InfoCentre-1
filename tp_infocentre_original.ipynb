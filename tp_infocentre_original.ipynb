{
 "cells": [
  {
   "cell_type": "markdown",
   "metadata": {},
   "source": [
    "#### Nom : madila\n",
    "#### POST-NOM :mvondo\n",
    "#### PRENOM : joel\n",
    "**------------------------------------------------------------------------------------------------------------------------------------------------------------------------------------------------------------------**"
   ]
  },
  {
   "cell_type": "markdown",
   "metadata": {},
   "source": [
    "<h1><center>Travail Pratique d'infocentre</center></h1>"
   ]
  },
  {
   "cell_type": "markdown",
   "metadata": {},
   "source": [
    "### Importation des bibliotheques"
   ]
  },
  {
   "cell_type": "code",
   "execution_count": 47,
   "metadata": {},
   "outputs": [],
   "source": [
    "import numpy as np\n",
    "import pandas as pd\n",
    "import matplotlib.pyplot as plt"
   ]
  },
  {
   "cell_type": "markdown",
   "metadata": {},
   "source": [
    "### (1) Importation du dataset"
   ]
  },
  {
   "cell_type": "code",
   "execution_count": 48,
   "metadata": {},
   "outputs": [],
   "source": [
    "travail = pd.read_excel('C:/Users/hans/Documents/mes documents/dataset_Hans_Kambeco_Mpiana/data_vin.xlsx')"
   ]
  },
  {
   "cell_type": "markdown",
   "metadata": {},
   "source": [
    "#### Affichage du dataset"
   ]
  },
  {
   "cell_type": "code",
   "execution_count": 49,
   "metadata": {},
   "outputs": [
    {
     "data": {
      "text/html": [
       "<div>\n",
       "<style scoped>\n",
       "    .dataframe tbody tr th:only-of-type {\n",
       "        vertical-align: middle;\n",
       "    }\n",
       "\n",
       "    .dataframe tbody tr th {\n",
       "        vertical-align: top;\n",
       "    }\n",
       "\n",
       "    .dataframe thead th {\n",
       "        text-align: right;\n",
       "    }\n",
       "</style>\n",
       "<table border=\"1\" class=\"dataframe\">\n",
       "  <thead>\n",
       "    <tr style=\"text-align: right;\">\n",
       "      <th></th>\n",
       "      <th>ID_individu</th>\n",
       "      <th>fixed_acidity</th>\n",
       "      <th>volatile_acidity</th>\n",
       "      <th>citric_acid</th>\n",
       "      <th>residual_sugar</th>\n",
       "      <th>chlorides</th>\n",
       "      <th>free_sulfur_dioxide</th>\n",
       "      <th>total_sulfur_dioxide</th>\n",
       "      <th>density</th>\n",
       "      <th>pH</th>\n",
       "      <th>sulphates</th>\n",
       "      <th>alcohol</th>\n",
       "    </tr>\n",
       "  </thead>\n",
       "  <tbody>\n",
       "    <tr>\n",
       "      <th>0</th>\n",
       "      <td>0</td>\n",
       "      <td>7.0</td>\n",
       "      <td>0.27</td>\n",
       "      <td>0.36</td>\n",
       "      <td>20.7</td>\n",
       "      <td>0.045</td>\n",
       "      <td>45.0</td>\n",
       "      <td>170.0</td>\n",
       "      <td>1.0010</td>\n",
       "      <td>3.00</td>\n",
       "      <td>0.45</td>\n",
       "      <td>8.8</td>\n",
       "    </tr>\n",
       "    <tr>\n",
       "      <th>1</th>\n",
       "      <td>1</td>\n",
       "      <td>6.3</td>\n",
       "      <td>0.30</td>\n",
       "      <td>0.34</td>\n",
       "      <td>1.6</td>\n",
       "      <td>0.049</td>\n",
       "      <td>14.0</td>\n",
       "      <td>132.0</td>\n",
       "      <td>0.9940</td>\n",
       "      <td>3.30</td>\n",
       "      <td>0.49</td>\n",
       "      <td>9.5</td>\n",
       "    </tr>\n",
       "    <tr>\n",
       "      <th>2</th>\n",
       "      <td>2</td>\n",
       "      <td>8.1</td>\n",
       "      <td>0.28</td>\n",
       "      <td>0.40</td>\n",
       "      <td>6.9</td>\n",
       "      <td>0.050</td>\n",
       "      <td>30.0</td>\n",
       "      <td>97.0</td>\n",
       "      <td>0.9951</td>\n",
       "      <td>3.26</td>\n",
       "      <td>0.44</td>\n",
       "      <td>10.1</td>\n",
       "    </tr>\n",
       "    <tr>\n",
       "      <th>3</th>\n",
       "      <td>3</td>\n",
       "      <td>7.2</td>\n",
       "      <td>0.23</td>\n",
       "      <td>0.32</td>\n",
       "      <td>8.5</td>\n",
       "      <td>0.058</td>\n",
       "      <td>47.0</td>\n",
       "      <td>186.0</td>\n",
       "      <td>0.9956</td>\n",
       "      <td>3.19</td>\n",
       "      <td>0.40</td>\n",
       "      <td>9.9</td>\n",
       "    </tr>\n",
       "    <tr>\n",
       "      <th>4</th>\n",
       "      <td>4</td>\n",
       "      <td>7.2</td>\n",
       "      <td>0.23</td>\n",
       "      <td>0.32</td>\n",
       "      <td>8.5</td>\n",
       "      <td>0.058</td>\n",
       "      <td>47.0</td>\n",
       "      <td>186.0</td>\n",
       "      <td>0.9956</td>\n",
       "      <td>3.19</td>\n",
       "      <td>0.40</td>\n",
       "      <td>9.9</td>\n",
       "    </tr>\n",
       "  </tbody>\n",
       "</table>\n",
       "</div>"
      ],
      "text/plain": [
       "   ID_individu  fixed_acidity  volatile_acidity  citric_acid  residual_sugar  \\\n",
       "0            0            7.0              0.27         0.36            20.7   \n",
       "1            1            6.3              0.30         0.34             1.6   \n",
       "2            2            8.1              0.28         0.40             6.9   \n",
       "3            3            7.2              0.23         0.32             8.5   \n",
       "4            4            7.2              0.23         0.32             8.5   \n",
       "\n",
       "   chlorides  free_sulfur_dioxide  total_sulfur_dioxide  density    pH  \\\n",
       "0      0.045                 45.0                 170.0   1.0010  3.00   \n",
       "1      0.049                 14.0                 132.0   0.9940  3.30   \n",
       "2      0.050                 30.0                  97.0   0.9951  3.26   \n",
       "3      0.058                 47.0                 186.0   0.9956  3.19   \n",
       "4      0.058                 47.0                 186.0   0.9956  3.19   \n",
       "\n",
       "   sulphates  alcohol  \n",
       "0       0.45      8.8  \n",
       "1       0.49      9.5  \n",
       "2       0.44     10.1  \n",
       "3       0.40      9.9  \n",
       "4       0.40      9.9  "
      ]
     },
     "execution_count": 49,
     "metadata": {},
     "output_type": "execute_result"
    }
   ],
   "source": [
    "travail.head()"
   ]
  },
  {
   "cell_type": "markdown",
   "metadata": {},
   "source": [
    "Notre jeu de données comprends 6497 lignes(consommateurs du vin) et 12 colonnes(variables)\n",
    "Notre dataset n'a pas de valeurs manquantes et contient que les valeurs numériques, ce qui nous facilites la tâche"
   ]
  },
  {
   "cell_type": "markdown",
   "metadata": {},
   "source": [
    "### (2) Affichage des caractéristiques statistiques"
   ]
  },
  {
   "cell_type": "code",
   "execution_count": 50,
   "metadata": {},
   "outputs": [
    {
     "data": {
      "text/html": [
       "<div>\n",
       "<style scoped>\n",
       "    .dataframe tbody tr th:only-of-type {\n",
       "        vertical-align: middle;\n",
       "    }\n",
       "\n",
       "    .dataframe tbody tr th {\n",
       "        vertical-align: top;\n",
       "    }\n",
       "\n",
       "    .dataframe thead th {\n",
       "        text-align: right;\n",
       "    }\n",
       "</style>\n",
       "<table border=\"1\" class=\"dataframe\">\n",
       "  <thead>\n",
       "    <tr style=\"text-align: right;\">\n",
       "      <th></th>\n",
       "      <th>ID_individu</th>\n",
       "      <th>fixed_acidity</th>\n",
       "      <th>volatile_acidity</th>\n",
       "      <th>citric_acid</th>\n",
       "      <th>residual_sugar</th>\n",
       "      <th>chlorides</th>\n",
       "      <th>free_sulfur_dioxide</th>\n",
       "      <th>total_sulfur_dioxide</th>\n",
       "      <th>density</th>\n",
       "      <th>pH</th>\n",
       "      <th>sulphates</th>\n",
       "      <th>alcohol</th>\n",
       "    </tr>\n",
       "  </thead>\n",
       "  <tbody>\n",
       "    <tr>\n",
       "      <th>count</th>\n",
       "      <td>6497.000000</td>\n",
       "      <td>6497.000000</td>\n",
       "      <td>6497.000000</td>\n",
       "      <td>6497.000000</td>\n",
       "      <td>6497.000000</td>\n",
       "      <td>6497.000000</td>\n",
       "      <td>6497.000000</td>\n",
       "      <td>6497.000000</td>\n",
       "      <td>6497.000000</td>\n",
       "      <td>6497.000000</td>\n",
       "      <td>6497.000000</td>\n",
       "      <td>6497.000000</td>\n",
       "    </tr>\n",
       "    <tr>\n",
       "      <th>mean</th>\n",
       "      <td>2042.535632</td>\n",
       "      <td>7.215307</td>\n",
       "      <td>0.339666</td>\n",
       "      <td>0.318633</td>\n",
       "      <td>5.443235</td>\n",
       "      <td>0.056034</td>\n",
       "      <td>30.525319</td>\n",
       "      <td>115.744574</td>\n",
       "      <td>0.994697</td>\n",
       "      <td>3.218501</td>\n",
       "      <td>0.531268</td>\n",
       "      <td>10.491801</td>\n",
       "    </tr>\n",
       "    <tr>\n",
       "      <th>std</th>\n",
       "      <td>1436.926393</td>\n",
       "      <td>1.296434</td>\n",
       "      <td>0.164636</td>\n",
       "      <td>0.145318</td>\n",
       "      <td>4.757804</td>\n",
       "      <td>0.035034</td>\n",
       "      <td>17.749400</td>\n",
       "      <td>56.521855</td>\n",
       "      <td>0.002999</td>\n",
       "      <td>0.160787</td>\n",
       "      <td>0.148806</td>\n",
       "      <td>1.192712</td>\n",
       "    </tr>\n",
       "    <tr>\n",
       "      <th>min</th>\n",
       "      <td>0.000000</td>\n",
       "      <td>3.800000</td>\n",
       "      <td>0.080000</td>\n",
       "      <td>0.000000</td>\n",
       "      <td>0.600000</td>\n",
       "      <td>0.009000</td>\n",
       "      <td>1.000000</td>\n",
       "      <td>6.000000</td>\n",
       "      <td>0.987110</td>\n",
       "      <td>2.720000</td>\n",
       "      <td>0.220000</td>\n",
       "      <td>8.000000</td>\n",
       "    </tr>\n",
       "    <tr>\n",
       "      <th>25%</th>\n",
       "      <td>812.000000</td>\n",
       "      <td>6.400000</td>\n",
       "      <td>0.230000</td>\n",
       "      <td>0.250000</td>\n",
       "      <td>1.800000</td>\n",
       "      <td>0.038000</td>\n",
       "      <td>17.000000</td>\n",
       "      <td>77.000000</td>\n",
       "      <td>0.992340</td>\n",
       "      <td>3.110000</td>\n",
       "      <td>0.430000</td>\n",
       "      <td>9.500000</td>\n",
       "    </tr>\n",
       "    <tr>\n",
       "      <th>50%</th>\n",
       "      <td>1649.000000</td>\n",
       "      <td>7.000000</td>\n",
       "      <td>0.290000</td>\n",
       "      <td>0.310000</td>\n",
       "      <td>3.000000</td>\n",
       "      <td>0.047000</td>\n",
       "      <td>29.000000</td>\n",
       "      <td>118.000000</td>\n",
       "      <td>0.994890</td>\n",
       "      <td>3.210000</td>\n",
       "      <td>0.510000</td>\n",
       "      <td>10.300000</td>\n",
       "    </tr>\n",
       "    <tr>\n",
       "      <th>75%</th>\n",
       "      <td>3273.000000</td>\n",
       "      <td>7.700000</td>\n",
       "      <td>0.400000</td>\n",
       "      <td>0.390000</td>\n",
       "      <td>8.100000</td>\n",
       "      <td>0.065000</td>\n",
       "      <td>41.000000</td>\n",
       "      <td>156.000000</td>\n",
       "      <td>0.996990</td>\n",
       "      <td>3.320000</td>\n",
       "      <td>0.600000</td>\n",
       "      <td>11.300000</td>\n",
       "    </tr>\n",
       "    <tr>\n",
       "      <th>max</th>\n",
       "      <td>4897.000000</td>\n",
       "      <td>15.900000</td>\n",
       "      <td>1.580000</td>\n",
       "      <td>1.660000</td>\n",
       "      <td>65.800000</td>\n",
       "      <td>0.611000</td>\n",
       "      <td>289.000000</td>\n",
       "      <td>440.000000</td>\n",
       "      <td>1.038980</td>\n",
       "      <td>4.010000</td>\n",
       "      <td>2.000000</td>\n",
       "      <td>14.900000</td>\n",
       "    </tr>\n",
       "  </tbody>\n",
       "</table>\n",
       "</div>"
      ],
      "text/plain": [
       "       ID_individu  fixed_acidity  volatile_acidity  citric_acid  \\\n",
       "count  6497.000000    6497.000000       6497.000000  6497.000000   \n",
       "mean   2042.535632       7.215307          0.339666     0.318633   \n",
       "std    1436.926393       1.296434          0.164636     0.145318   \n",
       "min       0.000000       3.800000          0.080000     0.000000   \n",
       "25%     812.000000       6.400000          0.230000     0.250000   \n",
       "50%    1649.000000       7.000000          0.290000     0.310000   \n",
       "75%    3273.000000       7.700000          0.400000     0.390000   \n",
       "max    4897.000000      15.900000          1.580000     1.660000   \n",
       "\n",
       "       residual_sugar    chlorides  free_sulfur_dioxide  total_sulfur_dioxide  \\\n",
       "count     6497.000000  6497.000000          6497.000000           6497.000000   \n",
       "mean         5.443235     0.056034            30.525319            115.744574   \n",
       "std          4.757804     0.035034            17.749400             56.521855   \n",
       "min          0.600000     0.009000             1.000000              6.000000   \n",
       "25%          1.800000     0.038000            17.000000             77.000000   \n",
       "50%          3.000000     0.047000            29.000000            118.000000   \n",
       "75%          8.100000     0.065000            41.000000            156.000000   \n",
       "max         65.800000     0.611000           289.000000            440.000000   \n",
       "\n",
       "           density           pH    sulphates      alcohol  \n",
       "count  6497.000000  6497.000000  6497.000000  6497.000000  \n",
       "mean      0.994697     3.218501     0.531268    10.491801  \n",
       "std       0.002999     0.160787     0.148806     1.192712  \n",
       "min       0.987110     2.720000     0.220000     8.000000  \n",
       "25%       0.992340     3.110000     0.430000     9.500000  \n",
       "50%       0.994890     3.210000     0.510000    10.300000  \n",
       "75%       0.996990     3.320000     0.600000    11.300000  \n",
       "max       1.038980     4.010000     2.000000    14.900000  "
      ]
     },
     "execution_count": 50,
     "metadata": {},
     "output_type": "execute_result"
    }
   ],
   "source": [
    "travail.describe()"
   ]
  },
  {
   "cell_type": "markdown",
   "metadata": {},
   "source": [
    "ici on voit la moyenne de chaque variable, l'ecart-type, min etc...."
   ]
  },
  {
   "cell_type": "markdown",
   "metadata": {},
   "source": [
    "### (3) Segmentation du dataset en 10 classes"
   ]
  },
  {
   "cell_type": "code",
   "execution_count": 51,
   "metadata": {},
   "outputs": [],
   "source": [
    "from sklearn.cluster import KMeans"
   ]
  },
  {
   "cell_type": "code",
   "execution_count": 52,
   "metadata": {},
   "outputs": [
    {
     "data": {
      "text/plain": [
       "array([4, 4, 4, ..., 6, 6, 6])"
      ]
     },
     "execution_count": 52,
     "metadata": {},
     "output_type": "execute_result"
    }
   ],
   "source": [
    "model = KMeans(n_clusters = 10)\n",
    "model.fit(travail)\n",
    "qualite = model.labels_\n",
    "qualite"
   ]
  },
  {
   "cell_type": "markdown",
   "metadata": {},
   "source": [
    "Je segmente cet ensemble de données en dix classes, chaque classe va réprenter la qualité d'un vin"
   ]
  },
  {
   "cell_type": "markdown",
   "metadata": {},
   "source": [
    "### (4) la taille de chaque classe"
   ]
  },
  {
   "cell_type": "code",
   "execution_count": 53,
   "metadata": {},
   "outputs": [
    {
     "data": {
      "text/plain": [
       "(array([0, 1, 2, 3, 4, 5, 6, 7, 8, 9]),\n",
       " array([538, 829, 529, 532, 818, 540, 829, 523, 824, 535], dtype=int64))"
      ]
     },
     "execution_count": 53,
     "metadata": {},
     "output_type": "execute_result"
    }
   ],
   "source": [
    "taille = np.unique(qualite,return_counts=True)\n",
    "taille"
   ]
  },
  {
   "cell_type": "markdown",
   "metadata": {},
   "source": [
    "la classe 0 = 538 consommateurs, classe 1 = 829 etc.... jsuqu'à la classe 9"
   ]
  },
  {
   "cell_type": "code",
   "execution_count": 55,
   "metadata": {},
   "outputs": [],
   "source": [
    "travail['qualité_vin'] = qualite\n",
    "travail.to_csv('data_vin_quality.csv')"
   ]
  },
  {
   "cell_type": "markdown",
   "metadata": {},
   "source": [
    "ajout d'une nouvelle varible(target) classe dans le datset"
   ]
  },
  {
   "cell_type": "code",
   "execution_count": 57,
   "metadata": {
    "scrolled": true
   },
   "outputs": [
    {
     "data": {
      "text/html": [
       "<div>\n",
       "<style scoped>\n",
       "    .dataframe tbody tr th:only-of-type {\n",
       "        vertical-align: middle;\n",
       "    }\n",
       "\n",
       "    .dataframe tbody tr th {\n",
       "        vertical-align: top;\n",
       "    }\n",
       "\n",
       "    .dataframe thead th {\n",
       "        text-align: right;\n",
       "    }\n",
       "</style>\n",
       "<table border=\"1\" class=\"dataframe\">\n",
       "  <thead>\n",
       "    <tr style=\"text-align: right;\">\n",
       "      <th></th>\n",
       "      <th>ID_individu</th>\n",
       "      <th>fixed_acidity</th>\n",
       "      <th>volatile_acidity</th>\n",
       "      <th>citric_acid</th>\n",
       "      <th>residual_sugar</th>\n",
       "      <th>chlorides</th>\n",
       "      <th>free_sulfur_dioxide</th>\n",
       "      <th>total_sulfur_dioxide</th>\n",
       "      <th>density</th>\n",
       "      <th>pH</th>\n",
       "      <th>sulphates</th>\n",
       "      <th>alcohol</th>\n",
       "      <th>qualité_vin</th>\n",
       "    </tr>\n",
       "  </thead>\n",
       "  <tbody>\n",
       "    <tr>\n",
       "      <th>0</th>\n",
       "      <td>0</td>\n",
       "      <td>7.0</td>\n",
       "      <td>0.27</td>\n",
       "      <td>0.36</td>\n",
       "      <td>20.7</td>\n",
       "      <td>0.045</td>\n",
       "      <td>45.0</td>\n",
       "      <td>170.0</td>\n",
       "      <td>1.0010</td>\n",
       "      <td>3.00</td>\n",
       "      <td>0.45</td>\n",
       "      <td>8.8</td>\n",
       "      <td>4</td>\n",
       "    </tr>\n",
       "    <tr>\n",
       "      <th>1</th>\n",
       "      <td>1</td>\n",
       "      <td>6.3</td>\n",
       "      <td>0.30</td>\n",
       "      <td>0.34</td>\n",
       "      <td>1.6</td>\n",
       "      <td>0.049</td>\n",
       "      <td>14.0</td>\n",
       "      <td>132.0</td>\n",
       "      <td>0.9940</td>\n",
       "      <td>3.30</td>\n",
       "      <td>0.49</td>\n",
       "      <td>9.5</td>\n",
       "      <td>4</td>\n",
       "    </tr>\n",
       "    <tr>\n",
       "      <th>2</th>\n",
       "      <td>2</td>\n",
       "      <td>8.1</td>\n",
       "      <td>0.28</td>\n",
       "      <td>0.40</td>\n",
       "      <td>6.9</td>\n",
       "      <td>0.050</td>\n",
       "      <td>30.0</td>\n",
       "      <td>97.0</td>\n",
       "      <td>0.9951</td>\n",
       "      <td>3.26</td>\n",
       "      <td>0.44</td>\n",
       "      <td>10.1</td>\n",
       "      <td>4</td>\n",
       "    </tr>\n",
       "    <tr>\n",
       "      <th>3</th>\n",
       "      <td>3</td>\n",
       "      <td>7.2</td>\n",
       "      <td>0.23</td>\n",
       "      <td>0.32</td>\n",
       "      <td>8.5</td>\n",
       "      <td>0.058</td>\n",
       "      <td>47.0</td>\n",
       "      <td>186.0</td>\n",
       "      <td>0.9956</td>\n",
       "      <td>3.19</td>\n",
       "      <td>0.40</td>\n",
       "      <td>9.9</td>\n",
       "      <td>4</td>\n",
       "    </tr>\n",
       "    <tr>\n",
       "      <th>4</th>\n",
       "      <td>4</td>\n",
       "      <td>7.2</td>\n",
       "      <td>0.23</td>\n",
       "      <td>0.32</td>\n",
       "      <td>8.5</td>\n",
       "      <td>0.058</td>\n",
       "      <td>47.0</td>\n",
       "      <td>186.0</td>\n",
       "      <td>0.9956</td>\n",
       "      <td>3.19</td>\n",
       "      <td>0.40</td>\n",
       "      <td>9.9</td>\n",
       "      <td>4</td>\n",
       "    </tr>\n",
       "  </tbody>\n",
       "</table>\n",
       "</div>"
      ],
      "text/plain": [
       "   ID_individu  fixed_acidity  volatile_acidity  citric_acid  residual_sugar  \\\n",
       "0            0            7.0              0.27         0.36            20.7   \n",
       "1            1            6.3              0.30         0.34             1.6   \n",
       "2            2            8.1              0.28         0.40             6.9   \n",
       "3            3            7.2              0.23         0.32             8.5   \n",
       "4            4            7.2              0.23         0.32             8.5   \n",
       "\n",
       "   chlorides  free_sulfur_dioxide  total_sulfur_dioxide  density    pH  \\\n",
       "0      0.045                 45.0                 170.0   1.0010  3.00   \n",
       "1      0.049                 14.0                 132.0   0.9940  3.30   \n",
       "2      0.050                 30.0                  97.0   0.9951  3.26   \n",
       "3      0.058                 47.0                 186.0   0.9956  3.19   \n",
       "4      0.058                 47.0                 186.0   0.9956  3.19   \n",
       "\n",
       "   sulphates  alcohol  qualité_vin  \n",
       "0       0.45      8.8            4  \n",
       "1       0.49      9.5            4  \n",
       "2       0.44     10.1            4  \n",
       "3       0.40      9.9            4  \n",
       "4       0.40      9.9            4  "
      ]
     },
     "execution_count": 57,
     "metadata": {},
     "output_type": "execute_result"
    }
   ],
   "source": [
    "travail.head()"
   ]
  },
  {
   "cell_type": "markdown",
   "metadata": {},
   "source": [
    "### (5) graphique"
   ]
  },
  {
   "cell_type": "code",
   "execution_count": 58,
   "metadata": {},
   "outputs": [],
   "source": [
    "from sklearn.decomposition import PCA"
   ]
  },
  {
   "cell_type": "code",
   "execution_count": 59,
   "metadata": {},
   "outputs": [],
   "source": [
    "modele = PCA(n_components=2)\n",
    "reduction = modele.fit_transform(travail)"
   ]
  },
  {
   "cell_type": "code",
   "execution_count": 60,
   "metadata": {},
   "outputs": [
    {
     "data": {
      "image/png": "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
