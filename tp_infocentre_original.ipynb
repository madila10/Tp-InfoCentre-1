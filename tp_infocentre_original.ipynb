{
 "cells": [
  {
   "cell_type": "markdown",
   "metadata": {},
   "source": [
    "#### Nom : MADILA\n",
    "#### POST-NOM :MVONDO\n",
    "#### PRENOM : JOEL\n",
    "**------------------------------------------------------------------------------------------------------------------------------------------------------------------------------------------------------------------**"
   ]
  },
  {
   "cell_type": "markdown",
   "metadata": {},
   "source": [
    "<h1><center>Travail Pratique d'infocentre</center></h1>"
   ]
  },
  {
   "cell_type": "markdown",
   "metadata": {},
   "source": [
    "### Importation des bibliotheques"
   ]
  },
  {
   "cell_type": "code",
   "execution_count": 47,
   "metadata": {},
   "outputs": [],
   "source": [
    "import numpy as np\n",
    "import pandas as pd\n",
    "import matplotlib.pyplot as plt"
   ]
  },
  {
   "cell_type": "markdown",
   "metadata": {},
   "source": [
    "### (1) Importation du dataset"
   ]
  },
  {
   "cell_type": "code",
   "execution_count": 48,
   "metadata": {},
   "outputs": [],
   "source": [
    "travail = pd.read_excel('C:/Users/hans/Documents/mes documents/dataset_Hans_Kambeco_Mpiana/data_vin.xlsx')"
   ]
  },
  {
   "cell_type": "markdown",
   "metadata": {},
   "source": [
    "#### Affichage du dataset"
   ]
  },
  {
   "cell_type": "code",
   "execution_count": 49,
   "metadata": {},
   "outputs": [
    {
     "data": {
      "text/html": [
       "<div>\n",
       "<style scoped>\n",
       "    .dataframe tbody tr th:only-of-type {\n",
       "        vertical-align: middle;\n",
       "    }\n",
       "\n",
       "    .dataframe tbody tr th {\n",
       "        vertical-align: top;\n",
       "    }\n",
       "\n",
       "    .dataframe thead th {\n",
       "        text-align: right;\n",
       "    }\n",
       "</style>\n",
       "<table border=\"1\" class=\"dataframe\">\n",
       "  <thead>\n",
       "    <tr style=\"text-align: right;\">\n",
       "      <th></th>\n",
       "      <th>ID_individu</th>\n",
       "      <th>fixed_acidity</th>\n",
       "      <th>volatile_acidity</th>\n",
       "      <th>citric_acid</th>\n",
       "      <th>residual_sugar</th>\n",
       "      <th>chlorides</th>\n",
       "      <th>free_sulfur_dioxide</th>\n",
       "      <th>total_sulfur_dioxide</th>\n",
       "      <th>density</th>\n",
       "      <th>pH</th>\n",
       "      <th>sulphates</th>\n",
       "      <th>alcohol</th>\n",
       "    </tr>\n",
       "  </thead>\n",
       "  <tbody>\n",
       "    <tr>\n",
       "      <th>0</th>\n",
       "      <td>0</td>\n",
       "      <td>7.0</td>\n",
       "      <td>0.27</td>\n",
       "      <td>0.36</td>\n",
       "      <td>20.7</td>\n",
       "      <td>0.045</td>\n",
       "      <td>45.0</td>\n",
       "      <td>170.0</td>\n",
       "      <td>1.0010</td>\n",
       "      <td>3.00</td>\n",
       "      <td>0.45</td>\n",
       "      <td>8.8</td>\n",
       "    </tr>\n",
       "    <tr>\n",
       "      <th>1</th>\n",
       "      <td>1</td>\n",
       "      <td>6.3</td>\n",
       "      <td>0.30</td>\n",
       "      <td>0.34</td>\n",
       "      <td>1.6</td>\n",
       "      <td>0.049</td>\n",
       "      <td>14.0</td>\n",
       "      <td>132.0</td>\n",
       "      <td>0.9940</td>\n",
       "      <td>3.30</td>\n",
       "      <td>0.49</td>\n",
       "      <td>9.5</td>\n",
       "    </tr>\n",
       "    <tr>\n",
       "      <th>2</th>\n",
       "      <td>2</td>\n",
       "      <td>8.1</td>\n",
       "      <td>0.28</td>\n",
       "      <td>0.40</td>\n",
       "      <td>6.9</td>\n",
       "      <td>0.050</td>\n",
       "      <td>30.0</td>\n",
       "      <td>97.0</td>\n",
       "      <td>0.9951</td>\n",
       "      <td>3.26</td>\n",
       "      <td>0.44</td>\n",
       "      <td>10.1</td>\n",
       "    </tr>\n",
       "    <tr>\n",
       "      <th>3</th>\n",
       "      <td>3</td>\n",
       "      <td>7.2</td>\n",
       "      <td>0.23</td>\n",
       "      <td>0.32</td>\n",
       "      <td>8.5</td>\n",
       "      <td>0.058</td>\n",
       "      <td>47.0</td>\n",
       "      <td>186.0</td>\n",
       "      <td>0.9956</td>\n",
       "      <td>3.19</td>\n",
       "      <td>0.40</td>\n",
       "      <td>9.9</td>\n",
       "    </tr>\n",
       "    <tr>\n",
       "      <th>4</th>\n",
       "      <td>4</td>\n",
       "      <td>7.2</td>\n",
       "      <td>0.23</td>\n",
       "      <td>0.32</td>\n",
       "      <td>8.5</td>\n",
       "      <td>0.058</td>\n",
       "      <td>47.0</td>\n",
       "      <td>186.0</td>\n",
       "      <td>0.9956</td>\n",
       "      <td>3.19</td>\n",
       "      <td>0.40</td>\n",
       "      <td>9.9</td>\n",
       "    </tr>\n",
       "  </tbody>\n",
       "</table>\n",
       "</div>"
      ],
      "text/plain": [
       "   ID_individu  fixed_acidity  volatile_acidity  citric_acid  residual_sugar  \\\n",
       "0            0            7.0              0.27         0.36            20.7   \n",
       "1            1            6.3              0.30         0.34             1.6   \n",
       "2            2            8.1              0.28         0.40             6.9   \n",
       "3            3            7.2              0.23         0.32             8.5   \n",
       "4            4            7.2              0.23         0.32             8.5   \n",
       "\n",
       "   chlorides  free_sulfur_dioxide  total_sulfur_dioxide  density    pH  \\\n",
       "0      0.045                 45.0                 170.0   1.0010  3.00   \n",
       "1      0.049                 14.0                 132.0   0.9940  3.30   \n",
       "2      0.050                 30.0                  97.0   0.9951  3.26   \n",
       "3      0.058                 47.0                 186.0   0.9956  3.19   \n",
       "4      0.058                 47.0                 186.0   0.9956  3.19   \n",
       "\n",
       "   sulphates  alcohol  \n",
       "0       0.45      8.8  \n",
       "1       0.49      9.5  \n",
       "2       0.44     10.1  \n",
       "3       0.40      9.9  \n",
       "4       0.40      9.9  "
      ]
     },
     "execution_count": 49,
     "metadata": {},
     "output_type": "execute_result"
    }
   ],
   "source": [
    "travail.head()"
   ]
  },
  {
   "cell_type": "markdown",
   "metadata": {},
   "source": [
    "Notre jeu de données comprends 6497 lignes(consommateurs du vin) et 12 colonnes(variables)\n",
    "Notre dataset n'a pas de valeurs manquantes et contient que les valeurs numériques, ce qui nous facilites la tâche"
   ]
  },
  {
   "cell_type": "markdown",
   "metadata": {},
   "source": [
    "### (2) Affichage des caractéristiques statistiques"
   ]
  },
  {
   "cell_type": "code",
   "execution_count": 50,
   "metadata": {},
   "outputs": [
    {
     "data": {
      "text/html": [
       "<div>\n",
       "<style scoped>\n",
       "    .dataframe tbody tr th:only-of-type {\n",
       "        vertical-align: middle;\n",
       "    }\n",
       "\n",
       "    .dataframe tbody tr th {\n",
       "        vertical-align: top;\n",
       "    }\n",
       "\n",
       "    .dataframe thead th {\n",
       "        text-align: right;\n",
       "    }\n",
       "</style>\n",
       "<table border=\"1\" class=\"dataframe\">\n",
       "  <thead>\n",
       "    <tr style=\"text-align: right;\">\n",
       "      <th></th>\n",
       "      <th>ID_individu</th>\n",
       "      <th>fixed_acidity</th>\n",
       "      <th>volatile_acidity</th>\n",
       "      <th>citric_acid</th>\n",
       "      <th>residual_sugar</th>\n",
       "      <th>chlorides</th>\n",
       "      <th>free_sulfur_dioxide</th>\n",
       "      <th>total_sulfur_dioxide</th>\n",
       "      <th>density</th>\n",
       "      <th>pH</th>\n",
       "      <th>sulphates</th>\n",
       "      <th>alcohol</th>\n",
       "    </tr>\n",
       "  </thead>\n",
       "  <tbody>\n",
       "    <tr>\n",
       "      <th>count</th>\n",
       "      <td>6497.000000</td>\n",
       "      <td>6497.000000</td>\n",
       "      <td>6497.000000</td>\n",
       "      <td>6497.000000</td>\n",
       "      <td>6497.000000</td>\n",
       "      <td>6497.000000</td>\n",
       "      <td>6497.000000</td>\n",
       "      <td>6497.000000</td>\n",
       "      <td>6497.000000</td>\n",
       "      <td>6497.000000</td>\n",
       "      <td>6497.000000</td>\n",
       "      <td>6497.000000</td>\n",
       "    </tr>\n",
       "    <tr>\n",
       "      <th>mean</th>\n",
       "      <td>2042.535632</td>\n",
       "      <td>7.215307</td>\n",
       "      <td>0.339666</td>\n",
       "      <td>0.318633</td>\n",
       "      <td>5.443235</td>\n",
       "      <td>0.056034</td>\n",
       "      <td>30.525319</td>\n",
       "      <td>115.744574</td>\n",
       "      <td>0.994697</td>\n",
       "      <td>3.218501</td>\n",
       "      <td>0.531268</td>\n",
       "      <td>10.491801</td>\n",
       "    </tr>\n",
       "    <tr>\n",
       "      <th>std</th>\n",
       "      <td>1436.926393</td>\n",
       "      <td>1.296434</td>\n",
       "      <td>0.164636</td>\n",
       "      <td>0.145318</td>\n",
       "      <td>4.757804</td>\n",
       "      <td>0.035034</td>\n",
       "      <td>17.749400</td>\n",
       "      <td>56.521855</td>\n",
       "      <td>0.002999</td>\n",
       "      <td>0.160787</td>\n",
       "      <td>0.148806</td>\n",
       "      <td>1.192712</td>\n",
       "    </tr>\n",
       "    <tr>\n",
       "      <th>min</th>\n",
       "      <td>0.000000</td>\n",
       "      <td>3.800000</td>\n",
       "      <td>0.080000</td>\n",
       "      <td>0.000000</td>\n",
       "      <td>0.600000</td>\n",
       "      <td>0.009000</td>\n",
       "      <td>1.000000</td>\n",
       "      <td>6.000000</td>\n",
       "      <td>0.987110</td>\n",
       "      <td>2.720000</td>\n",
       "      <td>0.220000</td>\n",
       "      <td>8.000000</td>\n",
       "    </tr>\n",
       "    <tr>\n",
       "      <th>25%</th>\n",
       "      <td>812.000000</td>\n",
       "      <td>6.400000</td>\n",
       "      <td>0.230000</td>\n",
       "      <td>0.250000</td>\n",
       "      <td>1.800000</td>\n",
       "      <td>0.038000</td>\n",
       "      <td>17.000000</td>\n",
       "      <td>77.000000</td>\n",
       "      <td>0.992340</td>\n",
       "      <td>3.110000</td>\n",
       "      <td>0.430000</td>\n",
       "      <td>9.500000</td>\n",
       "    </tr>\n",
       "    <tr>\n",
       "      <th>50%</th>\n",
       "      <td>1649.000000</td>\n",
       "      <td>7.000000</td>\n",
       "      <td>0.290000</td>\n",
       "      <td>0.310000</td>\n",
       "      <td>3.000000</td>\n",
       "      <td>0.047000</td>\n",
       "      <td>29.000000</td>\n",
       "      <td>118.000000</td>\n",
       "      <td>0.994890</td>\n",
       "      <td>3.210000</td>\n",
       "      <td>0.510000</td>\n",
       "      <td>10.300000</td>\n",
       "    </tr>\n",
       "    <tr>\n",
       "      <th>75%</th>\n",
       "      <td>3273.000000</td>\n",
       "      <td>7.700000</td>\n",
       "      <td>0.400000</td>\n",
       "      <td>0.390000</td>\n",
       "      <td>8.100000</td>\n",
       "      <td>0.065000</td>\n",
       "      <td>41.000000</td>\n",
       "      <td>156.000000</td>\n",
       "      <td>0.996990</td>\n",
       "      <td>3.320000</td>\n",
       "      <td>0.600000</td>\n",
       "      <td>11.300000</td>\n",
       "    </tr>\n",
       "    <tr>\n",
       "      <th>max</th>\n",
       "      <td>4897.000000</td>\n",
       "      <td>15.900000</td>\n",
       "      <td>1.580000</td>\n",
       "      <td>1.660000</td>\n",
       "      <td>65.800000</td>\n",
       "      <td>0.611000</td>\n",
       "      <td>289.000000</td>\n",
       "      <td>440.000000</td>\n",
       "      <td>1.038980</td>\n",
       "      <td>4.010000</td>\n",
       "      <td>2.000000</td>\n",
       "      <td>14.900000</td>\n",
       "    </tr>\n",
       "  </tbody>\n",
       "</table>\n",
       "</div>"
      ],
      "text/plain": [
       "       ID_individu  fixed_acidity  volatile_acidity  citric_acid  \\\n",
       "count  6497.000000    6497.000000       6497.000000  6497.000000   \n",
       "mean   2042.535632       7.215307          0.339666     0.318633   \n",
       "std    1436.926393       1.296434          0.164636     0.145318   \n",
       "min       0.000000       3.800000          0.080000     0.000000   \n",
       "25%     812.000000       6.400000          0.230000     0.250000   \n",
       "50%    1649.000000       7.000000          0.290000     0.310000   \n",
       "75%    3273.000000       7.700000          0.400000     0.390000   \n",
       "max    4897.000000      15.900000          1.580000     1.660000   \n",
       "\n",
       "       residual_sugar    chlorides  free_sulfur_dioxide  total_sulfur_dioxide  \\\n",
       "count     6497.000000  6497.000000          6497.000000           6497.000000   \n",
       "mean         5.443235     0.056034            30.525319            115.744574   \n",
       "std          4.757804     0.035034            17.749400             56.521855   \n",
       "min          0.600000     0.009000             1.000000              6.000000   \n",
       "25%          1.800000     0.038000            17.000000             77.000000   \n",
       "50%          3.000000     0.047000            29.000000            118.000000   \n",
       "75%          8.100000     0.065000            41.000000            156.000000   \n",
       "max         65.800000     0.611000           289.000000            440.000000   \n",
       "\n",
       "           density           pH    sulphates      alcohol  \n",
       "count  6497.000000  6497.000000  6497.000000  6497.000000  \n",
       "mean      0.994697     3.218501     0.531268    10.491801  \n",
       "std       0.002999     0.160787     0.148806     1.192712  \n",
       "min       0.987110     2.720000     0.220000     8.000000  \n",
       "25%       0.992340     3.110000     0.430000     9.500000  \n",
       "50%       0.994890     3.210000     0.510000    10.300000  \n",
       "75%       0.996990     3.320000     0.600000    11.300000  \n",
       "max       1.038980     4.010000     2.000000    14.900000  "
      ]
     },
     "execution_count": 50,
     "metadata": {},
     "output_type": "execute_result"
    }
   ],
   "source": [
    "travail.describe()"
   ]
  },
  {
   "cell_type": "markdown",
   "metadata": {},
   "source": [
    "ici on voit la moyenne de chaque variable, l'ecart-type, min etc...."
   ]
  },
  {
   "cell_type": "markdown",
   "metadata": {},
   "source": [
    "### (3) Segmentation du dataset en 10 classes"
   ]
  },
  {
   "cell_type": "code",
   "execution_count": 51,
   "metadata": {},
   "outputs": [],
   "source": [
    "from sklearn.cluster import KMeans"
   ]
  },
  {
   "cell_type": "code",
   "execution_count": 52,
   "metadata": {},
   "outputs": [
    {
     "data": {
      "text/plain": [
       "array([4, 4, 4, ..., 6, 6, 6])"
      ]
     },
     "execution_count": 52,
     "metadata": {},
     "output_type": "execute_result"
    }
   ],
   "source": [
    "model = KMeans(n_clusters = 10)\n",
    "model.fit(travail)\n",
    "qualite = model.labels_\n",
    "qualite"
   ]
  },
  {
   "cell_type": "markdown",
   "metadata": {},
   "source": [
    "Je segmente cet ensemble de données en dix classes, chaque classe va réprenter la qualité d'un vin"
   ]
  },
  {
   "cell_type": "markdown",
   "metadata": {},
   "source": [
    "### (4) la taille de chaque classe"
   ]
  },
  {
   "cell_type": "code",
   "execution_count": 53,
   "metadata": {},
   "outputs": [
    {
     "data": {
      "text/plain": [
       "(array([0, 1, 2, 3, 4, 5, 6, 7, 8, 9]),\n",
       " array([538, 829, 529, 532, 818, 540, 829, 523, 824, 535], dtype=int64))"
      ]
     },
     "execution_count": 53,
     "metadata": {},
     "output_type": "execute_result"
    }
   ],
   "source": [
    "taille = np.unique(qualite,return_counts=True)\n",
    "taille"
   ]
  },
  {
   "cell_type": "markdown",
   "metadata": {},
   "source": [
    "la classe 0 = 538 consommateurs, classe 1 = 829 etc.... jsuqu'à la classe 9"
   ]
  },
  {
   "cell_type": "code",
   "execution_count": 55,
   "metadata": {},
   "outputs": [],
   "source": [
    "travail['qualité_vin'] = qualite\n",
    "travail.to_csv('data_vin_quality.csv')"
   ]
  },
  {
   "cell_type": "markdown",
   "metadata": {},
   "source": [
    "ajout d'une nouvelle varible(target) classe dans le datset"
   ]
  },
  {
   "cell_type": "code",
   "execution_count": 57,
   "metadata": {
    "scrolled": true
   },
   "outputs": [
    {
     "data": {
      "text/html": [
       "<div>\n",
       "<style scoped>\n",
       "    .dataframe tbody tr th:only-of-type {\n",
       "        vertical-align: middle;\n",
       "    }\n",
       "\n",
       "    .dataframe tbody tr th {\n",
       "        vertical-align: top;\n",
       "    }\n",
       "\n",
       "    .dataframe thead th {\n",
       "        text-align: right;\n",
       "    }\n",
       "</style>\n",
       "<table border=\"1\" class=\"dataframe\">\n",
       "  <thead>\n",
       "    <tr style=\"text-align: right;\">\n",
       "      <th></th>\n",
       "      <th>ID_individu</th>\n",
       "      <th>fixed_acidity</th>\n",
       "      <th>volatile_acidity</th>\n",
       "      <th>citric_acid</th>\n",
       "      <th>residual_sugar</th>\n",
       "      <th>chlorides</th>\n",
       "      <th>free_sulfur_dioxide</th>\n",
       "      <th>total_sulfur_dioxide</th>\n",
       "      <th>density</th>\n",
       "      <th>pH</th>\n",
       "      <th>sulphates</th>\n",
       "      <th>alcohol</th>\n",
       "      <th>qualité_vin</th>\n",
       "    </tr>\n",
       "  </thead>\n",
       "  <tbody>\n",
       "    <tr>\n",
       "      <th>0</th>\n",
       "      <td>0</td>\n",
       "      <td>7.0</td>\n",
       "      <td>0.27</td>\n",
       "      <td>0.36</td>\n",
       "      <td>20.7</td>\n",
       "      <td>0.045</td>\n",
       "      <td>45.0</td>\n",
       "      <td>170.0</td>\n",
       "      <td>1.0010</td>\n",
       "      <td>3.00</td>\n",
       "      <td>0.45</td>\n",
       "      <td>8.8</td>\n",
       "      <td>4</td>\n",
       "    </tr>\n",
       "    <tr>\n",
       "      <th>1</th>\n",
       "      <td>1</td>\n",
       "      <td>6.3</td>\n",
       "      <td>0.30</td>\n",
       "      <td>0.34</td>\n",
       "      <td>1.6</td>\n",
       "      <td>0.049</td>\n",
       "      <td>14.0</td>\n",
       "      <td>132.0</td>\n",
       "      <td>0.9940</td>\n",
       "      <td>3.30</td>\n",
       "      <td>0.49</td>\n",
       "      <td>9.5</td>\n",
       "      <td>4</td>\n",
       "    </tr>\n",
       "    <tr>\n",
       "      <th>2</th>\n",
       "      <td>2</td>\n",
       "      <td>8.1</td>\n",
       "      <td>0.28</td>\n",
       "      <td>0.40</td>\n",
       "      <td>6.9</td>\n",
       "      <td>0.050</td>\n",
       "      <td>30.0</td>\n",
       "      <td>97.0</td>\n",
       "      <td>0.9951</td>\n",
       "      <td>3.26</td>\n",
       "      <td>0.44</td>\n",
       "      <td>10.1</td>\n",
       "      <td>4</td>\n",
       "    </tr>\n",
       "    <tr>\n",
       "      <th>3</th>\n",
       "      <td>3</td>\n",
       "      <td>7.2</td>\n",
       "      <td>0.23</td>\n",
       "      <td>0.32</td>\n",
       "      <td>8.5</td>\n",
       "      <td>0.058</td>\n",
       "      <td>47.0</td>\n",
       "      <td>186.0</td>\n",
       "      <td>0.9956</td>\n",
       "      <td>3.19</td>\n",
       "      <td>0.40</td>\n",
       "      <td>9.9</td>\n",
       "      <td>4</td>\n",
       "    </tr>\n",
       "    <tr>\n",
       "      <th>4</th>\n",
       "      <td>4</td>\n",
       "      <td>7.2</td>\n",
       "      <td>0.23</td>\n",
       "      <td>0.32</td>\n",
       "      <td>8.5</td>\n",
       "      <td>0.058</td>\n",
       "      <td>47.0</td>\n",
       "      <td>186.0</td>\n",
       "      <td>0.9956</td>\n",
       "      <td>3.19</td>\n",
       "      <td>0.40</td>\n",
       "      <td>9.9</td>\n",
       "      <td>4</td>\n",
       "    </tr>\n",
       "  </tbody>\n",
       "</table>\n",
       "</div>"
      ],
      "text/plain": [
       "   ID_individu  fixed_acidity  volatile_acidity  citric_acid  residual_sugar  \\\n",
       "0            0            7.0              0.27         0.36            20.7   \n",
       "1            1            6.3              0.30         0.34             1.6   \n",
       "2            2            8.1              0.28         0.40             6.9   \n",
       "3            3            7.2              0.23         0.32             8.5   \n",
       "4            4            7.2              0.23         0.32             8.5   \n",
       "\n",
       "   chlorides  free_sulfur_dioxide  total_sulfur_dioxide  density    pH  \\\n",
       "0      0.045                 45.0                 170.0   1.0010  3.00   \n",
       "1      0.049                 14.0                 132.0   0.9940  3.30   \n",
       "2      0.050                 30.0                  97.0   0.9951  3.26   \n",
       "3      0.058                 47.0                 186.0   0.9956  3.19   \n",
       "4      0.058                 47.0                 186.0   0.9956  3.19   \n",
       "\n",
       "   sulphates  alcohol  qualité_vin  \n",
       "0       0.45      8.8            4  \n",
       "1       0.49      9.5            4  \n",
       "2       0.44     10.1            4  \n",
       "3       0.40      9.9            4  \n",
       "4       0.40      9.9            4  "
      ]
     },
     "execution_count": 57,
     "metadata": {},
     "output_type": "execute_result"
    }
   ],
   "source": [
    "travail.head()"
   ]
  },
  {
   "cell_type": "markdown",
   "metadata": {},
   "source": [
    "### (5) graphique"
   ]
  },
  {
   "cell_type": "code",
   "execution_count": 58,
   "metadata": {},
   "outputs": [],
   "source": [
    "from sklearn.decomposition import PCA"
   ]
  },
  {
   "cell_type": "code",
   "execution_count": 59,
   "metadata": {},
   "outputs": [],
   "source": [
    "modele = PCA(n_components=2)\n",
    "reduction = modele.fit_transform(travail)"
   ]
  },
  {
   "cell_type": "code",
   "execution_count": 60,
   "metadata": {},
   "outputs": [
    {
     "data": {
      "image/png": "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
